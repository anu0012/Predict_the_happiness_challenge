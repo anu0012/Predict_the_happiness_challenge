{
 "cells": [
  {
   "cell_type": "code",
   "execution_count": 1,
   "metadata": {
    "collapsed": true
   },
   "outputs": [],
   "source": [
    "import numpy as np\n",
    "import os\n",
    "import pandas as pd\n",
    "import sys\n",
    "import matplotlib.pyplot as plt\n",
    "%matplotlib inline\n",
    "from sklearn.model_selection import train_test_split\n",
    "from sklearn.feature_extraction.text import CountVectorizer\n",
    "from sklearn.feature_extraction.text import TfidfTransformer\n",
    "from sklearn.feature_extraction.text import TfidfVectorizer\n",
    "from sklearn.naive_bayes import MultinomialNB\n",
    "from sklearn.svm import LinearSVC\n",
    "from sklearn.ensemble import RandomForestClassifier\n",
    "from nltk.corpus import wordnet as wn\n",
    "from nltk.corpus import stopwords\n",
    "from nltk.stem.snowball import SnowballStemmer\n",
    "import nltk\n",
    "from nltk import word_tokenize, ngrams"
   ]
  },
  {
   "cell_type": "code",
   "execution_count": 9,
   "metadata": {
    "collapsed": true
   },
   "outputs": [],
   "source": [
    "from sklearn.naive_bayes import BernoulliNB"
   ]
  },
  {
   "cell_type": "code",
   "execution_count": 2,
   "metadata": {
    "collapsed": true
   },
   "outputs": [],
   "source": [
    "train = pd.read_csv(\"train.csv\")\n",
    "test = pd.read_csv(\"test.csv\")"
   ]
  },
  {
   "cell_type": "code",
   "execution_count": 3,
   "metadata": {
    "collapsed": false
   },
   "outputs": [],
   "source": [
    "# Target Mapping\n",
    "mapping_target = {'happy':0, 'not happy':1}\n",
    "train = train.replace({'Is_Response':mapping_target})\n",
    "\n",
    "# Browser Mapping\n",
    "mapping_browser = {'Firefox':0, 'Mozilla':0, 'Mozilla Firefox':0,\n",
    "                  'Edge': 1, 'Internet Explorer': 1 , 'InternetExplorer': 1, 'IE':1,\n",
    "                   'Google Chrome':2, 'Chrome':2,\n",
    "                   'Safari': 3, 'Opera': 4\n",
    "                  }\n",
    "train = train.replace({'Browser_Used':mapping_browser})\n",
    "\n",
    "# Device mapping\n",
    "mapping_device = {'Desktop':0, 'Mobile':1, 'Tablet':2}\n",
    "train = train.replace({'Device_Used':mapping_device})"
   ]
  },
  {
   "cell_type": "code",
   "execution_count": 4,
   "metadata": {
    "collapsed": false
   },
   "outputs": [
    {
     "data": {
      "text/plain": [
       "<matplotlib.axes._subplots.AxesSubplot at 0x116099898>"
      ]
     },
     "execution_count": 4,
     "metadata": {},
     "output_type": "execute_result"
    },
    {
     "data": {
      "image/png": "[encoded data removed]",
      "text/plain": [
       "<matplotlib.figure.Figure at 0x112c426a0>"
      ]
     },
     "metadata": {},
     "output_type": "display_data"
    }
   ],
   "source": [
    "train['Browser_Used'].value_counts().plot(kind='bar')\n",
    "#plt.show()"
   ]
  },
  {
   "cell_type": "code",
   "execution_count": 5,
   "metadata": {
    "collapsed": true
   },
   "outputs": [],
   "source": [
    "test_id = test['User_ID']\n",
    "target = train['Is_Response']"
   ]
  },
  {
   "cell_type": "code",
   "execution_count": 23,
   "metadata": {
    "collapsed": false
   },
   "outputs": [],
   "source": [
    "# vectorizer = TfidfVectorizer(stop_words='english')\n",
    "# vectorizer.fit(train['Description'])\n",
    "#print ((vectorizer.get_feature_names()))\n",
    "\n",
    "# CountVectorizer to create BagOfWords (By default it will remove all stopwords,\n",
    "# change each word into lowercase and it won't consider punctuation)\n",
    "#count_vector = CountVectorizer(stop_words='english')\n",
    "count_vector = TfidfVectorizer(\n",
    "                             sublinear_tf=True,\n",
    "                             use_idf=True)\n",
    "# Fit the training data and then return the matrix\n",
    "training_data = count_vector.fit_transform(train['Description'])\n",
    "# Transform testing data and return the matrix.\n",
    "testing_data = count_vector.transform(test['Description'])\n",
    "\n",
    "#naive_bayes = MultinomialNB()\n",
    "naive_bayes = LinearSVC()\n",
    "naive_bayes.fit(training_data,target)\n",
    "# Prediction\n",
    "pred = naive_bayes.predict(testing_data)\n",
    "\n",
    "#print((training_data.data))\n",
    "# clf = RandomForestClassifier()\n",
    "# clf.fit(training_data,target)\n",
    "\n",
    "# pred = clf.predict(testing_data)\n"
   ]
  },
  {
   "cell_type": "code",
   "execution_count": 24,
   "metadata": {
    "collapsed": true
   },
   "outputs": [],
   "source": [
    "result = pd.DataFrame()\n",
    "result['User_ID'] = test_id\n",
    "result['Is_Response'] = pred\n",
    "mapping = {0:'happy', 1:'not_happy'}\n",
    "result = result.replace({'Is_Response':mapping})\n",
    "\n",
    "result.to_csv(\"predicted_result.csv\", index=False)"
   ]
  },
  {
   "cell_type": "code",
   "execution_count": null,
   "metadata": {
    "collapsed": true
   },
   "outputs": [],
   "source": []
  }
 ],
 "metadata": {
  "kernelspec": {
   "display_name": "Python 3",
   "language": "python",
   "name": "python3"
  },
  "language_info": {
   "codemirror_mode": {
    "name": "ipython",
    "version": 3
   },
   "file_extension": ".py",
   "mimetype": "text/x-python",
   "name": "python",
   "nbconvert_exporter": "python",
   "pygments_lexer": "ipython3",
   "version": "3.6.0"
  }
 },
 "nbformat": 4,
 "nbformat_minor": 2
}
